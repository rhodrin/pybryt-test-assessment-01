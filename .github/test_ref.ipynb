{
 "cells": [
  {
   "cell_type": "code",
   "execution_count": 1,
   "id": "circular-caution",
   "metadata": {},
   "outputs": [],
   "source": [
    "import pybryt"
   ]
  },
  {
   "cell_type": "code",
   "execution_count": 2,
   "id": "incorporate-diary",
   "metadata": {},
   "outputs": [],
   "source": [
    "def notify_when_value_exists(value, message_when_exists=None, message_when_missing = None):\n",
    "    v = pybryt.Value(value)\n",
    "    n = ~v\n",
    "    n.success_message = message_when_missing\n",
    "    n.failure_message = message_when_exists\n",
    "    return(n)"
   ]
  },
  {
   "cell_type": "code",
   "execution_count": 3,
   "id": "friendly-carroll",
   "metadata": {},
   "outputs": [],
   "source": [
    "import numpy as np"
   ]
  },
  {
   "cell_type": "code",
   "execution_count": 4,
   "id": "fossil-rhythm",
   "metadata": {},
   "outputs": [],
   "source": [
    "A = np.array([[ 1,  1,  2],\n",
    "              [ 2,  0, -1],\n",
    "              [-2,  1,  0]])"
   ]
  },
  {
   "cell_type": "code",
   "execution_count": 5,
   "id": "executive-rebecca",
   "metadata": {},
   "outputs": [
    {
     "data": {
      "text/plain": [
       "pybryt.NotAnnotation"
      ]
     },
     "execution_count": 5,
     "metadata": {},
     "output_type": "execute_result"
    }
   ],
   "source": [
    "np.linalg.det(A)\n",
    "\n",
    "notify_when_value_exists(7.000, \"Determinat has been computed correctly\", \"Determinant has been computed incorrectly\")"
   ]
  }
 ],
 "metadata": {
  "kernelspec": {
   "display_name": "Python 3",
   "language": "python",
   "name": "python3"
  },
  "language_info": {
   "codemirror_mode": {
    "name": "ipython",
    "version": 3
   },
   "file_extension": ".py",
   "mimetype": "text/x-python",
   "name": "python",
   "nbconvert_exporter": "python",
   "pygments_lexer": "ipython3",
   "version": "3.8.8"
  }
 },
 "nbformat": 4,
 "nbformat_minor": 5
}
